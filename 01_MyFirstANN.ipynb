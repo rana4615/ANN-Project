{
  "cells": [
    {
      "cell_type": "markdown",
      "metadata": {
        "id": "fXEVFsasxj_R"
      },
      "source": [
        "### My First ANN"
      ]
    },
    {
      "cell_type": "code",
      "execution_count": null,
      "metadata": {
        "id": "B968r_nXxTK8",
        "colab": {
          "base_uri": "https://localhost:8080/"
        },
        "outputId": "478b0933-47e3-4cc3-894c-0a0a221ab98c"
      },
      "outputs": [
        {
          "output_type": "stream",
          "name": "stdout",
          "text": [
            "Mounted at /content/drive\n"
          ]
        }
      ],
      "source": [
        "# Mount the Google-Drive\n",
        "from google.colab import drive\n",
        "drive.mount('/content/drive')"
      ]
    },
    {
      "cell_type": "markdown",
      "metadata": {
        "id": "B0zHt4SozEv3"
      },
      "source": [
        "The CIFAR-10 are labeled tiny images [dataset](http://www.cs.toronto.edu/~kriz/cifar.html). They were collected by Alex Krizhevsky, Vinod Nair, and Geoffrey Hinton. There are total 10 classes as shown below. We will use neural networks for classification"
      ]
    },
    {
      "cell_type": "markdown",
      "metadata": {
        "id": "HhJbUAoRzlvx"
      },
      "source": [
        "### Import Dependencies"
      ]
    },
    {
      "cell_type": "code",
      "execution_count": null,
      "metadata": {
        "id": "cviwYgoIzF1_"
      },
      "outputs": [],
      "source": [
        "import tensorflow as tf\n",
        "from tensorflow.keras.layers import Input, Conv2D, Dense,Flatten, Dropout\n",
        "from tensorflow.keras import datasets, layers, models\n",
        "from tensorflow.keras.layers import GlobalMaxPooling2D, MaxPooling2D\n",
        "from tensorflow.keras.layers import BatchNormalization\n",
        "from tensorflow.keras.models import Model\n",
        "import matplotlib.pyplot as plt\n",
        "import pandas as pd\n",
        "import numpy as np\n",
        "import seaborn as sns"
      ]
    },
    {
      "cell_type": "code",
      "execution_count": null,
      "metadata": {
        "id": "OzU3lwLh1J32",
        "colab": {
          "base_uri": "https://localhost:8080/"
        },
        "outputId": "cc06df3f-845c-40fa-a0ae-868938cf9669"
      },
      "outputs": [
        {
          "output_type": "stream",
          "name": "stdout",
          "text": [
            "2.15.0\n"
          ]
        }
      ],
      "source": [
        "# Display the version\n",
        "print(tf.__version__)"
      ]
    },
    {
      "cell_type": "code",
      "execution_count": null,
      "metadata": {
        "colab": {
          "base_uri": "https://localhost:8080/"
        },
        "id": "nEyiVY5H1p76",
        "outputId": "0e4ad35c-b22c-4d90-ba3f-318796e4c2a5"
      },
      "outputs": [
        {
          "output_type": "stream",
          "name": "stdout",
          "text": [
            "Downloading data from https://www.cs.toronto.edu/~kriz/cifar-10-python.tar.gz\n",
            "170498071/170498071 [==============================] - 37s 0us/step\n"
          ]
        }
      ],
      "source": [
        "#load the dataset\n",
        "(X_train, y_train),(X_test, y_test)=datasets.cifar10.load_data()"
      ]
    },
    {
      "cell_type": "code",
      "execution_count": null,
      "metadata": {
        "colab": {
          "base_uri": "https://localhost:8080/"
        },
        "id": "Tajr7a2E3ay5",
        "outputId": "9c557143-6df0-4f26-f9dd-7be5cbe9d4e5"
      },
      "outputs": [
        {
          "output_type": "execute_result",
          "data": {
            "text/plain": [
              "(50000, 32, 32, 3)"
            ]
          },
          "metadata": {},
          "execution_count": 5
        }
      ],
      "source": [
        "#shape of train/test dataset\n",
        "X_train.shape"
      ]
    },
    {
      "cell_type": "code",
      "execution_count": null,
      "metadata": {
        "colab": {
          "base_uri": "https://localhost:8080/"
        },
        "id": "q9JTvCUV3kSo",
        "outputId": "93a4c0b8-b5b0-4246-d6b0-2df7985dffe6"
      },
      "outputs": [
        {
          "output_type": "execute_result",
          "data": {
            "text/plain": [
              "(50000, 1)"
            ]
          },
          "metadata": {},
          "execution_count": 6
        }
      ],
      "source": [
        "#shape of train/test dataset\n",
        "y_train.shape"
      ]
    },
    {
      "cell_type": "code",
      "execution_count": null,
      "metadata": {
        "colab": {
          "base_uri": "https://localhost:8080/"
        },
        "id": "4Z4G6N3S3l3k",
        "outputId": "589b7553-2ea0-46b8-f750-4693cf276851"
      },
      "outputs": [
        {
          "output_type": "execute_result",
          "data": {
            "text/plain": [
              "(10000, 32, 32, 3)"
            ]
          },
          "metadata": {},
          "execution_count": 7
        }
      ],
      "source": [
        "#shape of train/test dataset\n",
        "X_test.shape"
      ]
    },
    {
      "cell_type": "code",
      "execution_count": null,
      "metadata": {
        "colab": {
          "base_uri": "https://localhost:8080/"
        },
        "id": "HeJLDn_h3yPL",
        "outputId": "b523e03d-ebea-43b4-9dc1-ea91072283e2"
      },
      "outputs": [
        {
          "output_type": "execute_result",
          "data": {
            "text/plain": [
              "(10000, 1)"
            ]
          },
          "metadata": {},
          "execution_count": 8
        }
      ],
      "source": [
        "#shape of train/test dataset\n",
        "y_test.shape"
      ]
    },
    {
      "cell_type": "code",
      "execution_count": null,
      "metadata": {
        "colab": {
          "base_uri": "https://localhost:8080/"
        },
        "id": "OtO2j2Hd3_bS",
        "outputId": "d0360867-4e85-4019-9127-c577dcef872f"
      },
      "outputs": [
        {
          "output_type": "execute_result",
          "data": {
            "text/plain": [
              "array([[6],\n",
              "       [9],\n",
              "       [9],\n",
              "       [4],\n",
              "       [1],\n",
              "       [1],\n",
              "       [2],\n",
              "       [7],\n",
              "       [8]], dtype=uint8)"
            ]
          },
          "metadata": {},
          "execution_count": 9
        }
      ],
      "source": [
        "#check the target class via index\n",
        "y_train[:9]"
      ]
    },
    {
      "cell_type": "code",
      "execution_count": null,
      "metadata": {
        "colab": {
          "base_uri": "https://localhost:8080/"
        },
        "id": "x-VNKrnL49TN",
        "outputId": "560fb98a-bb18-4da6-f480-d7ef0021ad3c"
      },
      "outputs": [
        {
          "output_type": "execute_result",
          "data": {
            "text/plain": [
              "2"
            ]
          },
          "metadata": {},
          "execution_count": 10
        }
      ],
      "source": [
        "y_train.ndim"
      ]
    },
    {
      "cell_type": "code",
      "execution_count": null,
      "metadata": {
        "colab": {
          "base_uri": "https://localhost:8080/"
        },
        "id": "ycw1IDBu5Y_Y",
        "outputId": "d99b0f33-d02a-4963-dd59-96c2a42e65af"
      },
      "outputs": [
        {
          "output_type": "stream",
          "name": "stdout",
          "text": [
            "[6 9 9 4 1 1 2 7 8 3]\n"
          ]
        }
      ],
      "source": [
        "#reshape y_train from 2D to 1D\n",
        "y_train = y_train.reshape(-1,)\n",
        "y_test = y_test.reshape(-1)\n",
        "print(y_train[:10])\n",
        "# print(y_test[:10]"
      ]
    },
    {
      "cell_type": "code",
      "execution_count": null,
      "metadata": {
        "colab": {
          "base_uri": "https://localhost:8080/"
        },
        "id": "MvTt_9Df50lm",
        "outputId": "a6b4d1b5-8f80-4ba9-a31a-9e58fcfbee02"
      },
      "outputs": [
        {
          "output_type": "execute_result",
          "data": {
            "text/plain": [
              "1"
            ]
          },
          "metadata": {},
          "execution_count": 12
        }
      ],
      "source": [
        "y_train.ndim"
      ]
    },
    {
      "cell_type": "code",
      "execution_count": null,
      "metadata": {
        "id": "4qli4YNu59f2"
      },
      "outputs": [],
      "source": [
        "classes = [\"airplane\",\"automobile\",\"bird\",\"cat\",\"deer\",\"dog\",\"frog\",\"horse\",\"ship\",\"truck\"]"
      ]
    },
    {
      "cell_type": "code",
      "execution_count": null,
      "metadata": {
        "id": "AXx9m0cl67bU"
      },
      "outputs": [],
      "source": [
        "X_train = X_train / 255.0\n",
        "X_test = X_test / 255.0"
      ]
    },
    {
      "cell_type": "code",
      "execution_count": null,
      "metadata": {
        "id": "FXiUFzU47VB8"
      },
      "outputs": [],
      "source": [
        "ann = models.Sequential([\n",
        "        layers.Flatten(input_shape=(32,32,3)),\n",
        "        layers.Dense(3000, activation='relu'), #H1\n",
        "        layers.Dense(1000, activation='relu'), #H2\n",
        "        layers.Dense(500, activation='relu'),  #H3\n",
        "        layers.Dense(100, activation='relu'),  #H4\n",
        "        layers.Dense(10, activation='softmax') #OL\n",
        "    ])"
      ]
    },
    {
      "cell_type": "code",
      "execution_count": null,
      "metadata": {
        "id": "-DoL92dR-MrW"
      },
      "outputs": [],
      "source": [
        "ann.compile(optimizer='SGD',\n",
        "              loss='sparse_categorical_crossentropy',\n",
        "              metrics=['accuracy'])"
      ]
    },
    {
      "cell_type": "code",
      "execution_count": null,
      "metadata": {
        "colab": {
          "base_uri": "https://localhost:8080/"
        },
        "id": "qTpULl5b-2Bl",
        "outputId": "93a23e66-2a0d-4483-e247-5f93d9c8052b"
      },
      "outputs": [
        {
          "output_type": "stream",
          "name": "stdout",
          "text": [
            "Model: \"sequential\"\n",
            "_________________________________________________________________\n",
            " Layer (type)                Output Shape              Param #   \n",
            "=================================================================\n",
            " flatten (Flatten)           (None, 3072)              0         \n",
            "                                                                 \n",
            " dense (Dense)               (None, 3000)              9219000   \n",
            "                                                                 \n",
            " dense_1 (Dense)             (None, 1000)              3001000   \n",
            "                                                                 \n",
            " dense_2 (Dense)             (None, 500)               500500    \n",
            "                                                                 \n",
            " dense_3 (Dense)             (None, 100)               50100     \n",
            "                                                                 \n",
            " dense_4 (Dense)             (None, 10)                1010      \n",
            "                                                                 \n",
            "=================================================================\n",
            "Total params: 12771610 (48.72 MB)\n",
            "Trainable params: 12771610 (48.72 MB)\n",
            "Non-trainable params: 0 (0.00 Byte)\n",
            "_________________________________________________________________\n"
          ]
        }
      ],
      "source": [
        "ann.summary()"
      ]
    },
    {
      "cell_type": "code",
      "execution_count": null,
      "metadata": {
        "colab": {
          "base_uri": "https://localhost:8080/"
        },
        "id": "Ik5rAEHYAjO0",
        "outputId": "92a35e3a-a9ed-4618-b78a-08055f2ba951"
      },
      "outputs": [
        {
          "output_type": "stream",
          "name": "stdout",
          "text": [
            "Epoch 1/10\n",
            "1563/1563 [==============================] - 11s 6ms/step - loss: 1.8337 - accuracy: 0.3415 - val_loss: 1.7231 - val_accuracy: 0.3797\n",
            "Epoch 2/10\n",
            "1563/1563 [==============================] - 9s 6ms/step - loss: 1.6313 - accuracy: 0.4187 - val_loss: 1.6204 - val_accuracy: 0.4196\n",
            "Epoch 3/10\n",
            "1563/1563 [==============================] - 9s 6ms/step - loss: 1.5409 - accuracy: 0.4530 - val_loss: 1.5097 - val_accuracy: 0.4567\n",
            "Epoch 4/10\n",
            "1563/1563 [==============================] - 8s 5ms/step - loss: 1.4754 - accuracy: 0.4762 - val_loss: 1.4709 - val_accuracy: 0.4749\n",
            "Epoch 5/10\n",
            "1563/1563 [==============================] - 9s 6ms/step - loss: 1.4220 - accuracy: 0.4945 - val_loss: 1.4583 - val_accuracy: 0.4891\n",
            "Epoch 6/10\n",
            "1563/1563 [==============================] - 9s 6ms/step - loss: 1.3740 - accuracy: 0.5138 - val_loss: 1.5330 - val_accuracy: 0.4631\n",
            "Epoch 7/10\n",
            "1563/1563 [==============================] - 8s 5ms/step - loss: 1.3323 - accuracy: 0.5267 - val_loss: 1.4058 - val_accuracy: 0.5013\n",
            "Epoch 8/10\n",
            "1563/1563 [==============================] - 9s 6ms/step - loss: 1.2943 - accuracy: 0.5410 - val_loss: 1.9053 - val_accuracy: 0.3637\n",
            "Epoch 9/10\n",
            "1563/1563 [==============================] - 8s 5ms/step - loss: 1.2568 - accuracy: 0.5548 - val_loss: 1.5285 - val_accuracy: 0.4778\n",
            "Epoch 10/10\n",
            "1563/1563 [==============================] - 8s 5ms/step - loss: 1.2220 - accuracy: 0.5662 - val_loss: 1.4126 - val_accuracy: 0.5043\n"
          ]
        }
      ],
      "source": [
        "ann_hist = ann.fit(X_train, y_train, validation_data=(X_test, y_test), epochs=10)"
      ]
    },
    {
      "cell_type": "code",
      "execution_count": null,
      "metadata": {
        "id": "XzmIwbC_mUvr",
        "colab": {
          "base_uri": "https://localhost:8080/"
        },
        "outputId": "d77b6ebd-00c1-4564-8b10-89058e6919e6"
      },
      "outputs": [
        {
          "output_type": "stream",
          "name": "stderr",
          "text": [
            "/usr/local/lib/python3.10/dist-packages/keras/src/engine/training.py:3103: UserWarning: You are saving your model as an HDF5 file via `model.save()`. This file format is considered legacy. We recommend using instead the native Keras format, e.g. `model.save('my_model.keras')`.\n",
            "  saving_api.save_model(\n"
          ]
        }
      ],
      "source": [
        "# Save the model\n",
        "ann.save('ann_v1.h5')"
      ]
    },
    {
      "cell_type": "code",
      "execution_count": null,
      "metadata": {
        "id": "Bt2vOeOcm5-x"
      },
      "outputs": [],
      "source": [
        "# convert the history.history dict to a pandas DataFrame:\n",
        "history_df = pd.DataFrame(ann_hist.history)\n",
        "\n",
        "# save dataframe as csv file\n",
        "history_df.to_csv('ann_history.csv', encoding='utf-8', index=False)"
      ]
    },
    {
      "cell_type": "code",
      "execution_count": null,
      "metadata": {
        "colab": {
          "base_uri": "https://localhost:8080/"
        },
        "id": "GR8UPyDcnPdx",
        "outputId": "4dbb8d44-8710-4737-bb94-5046a23be268"
      },
      "outputs": [
        {
          "output_type": "stream",
          "name": "stdout",
          "text": [
            "dict_keys(['loss', 'accuracy', 'val_loss', 'val_accuracy'])\n"
          ]
        }
      ],
      "source": [
        "# list all data in history\n",
        "print(ann_hist.history.keys())"
      ]
    },
    {
      "cell_type": "code",
      "execution_count": null,
      "metadata": {
        "colab": {
          "base_uri": "https://localhost:8080/",
          "height": 295
        },
        "id": "XG9zCnqinWqQ",
        "outputId": "efc80d11-33d9-4260-a36d-01e167d5c0a2"
      },
      "outputs": [
        {
          "output_type": "display_data",
          "data": {
            "text/plain": [
              "<Figure size 432x288 with 1 Axes>"
            ],
            "image/png": "[encoded data removed]"
          },
          "metadata": {
            "needs_background": "light"
          }
        }
      ],
      "source": [
        "# summarize history for accuracy\n",
        "plt.plot(ann_hist.history['accuracy'])\n",
        "plt.plot(ann_hist.history['val_accuracy'])\n",
        "plt.title('model accuracy')\n",
        "plt.ylabel('accuracy')\n",
        "plt.xlabel('epoch')\n",
        "plt.legend(['train', 'test'], loc='upper left')\n",
        "plt.show()"
      ]
    },
    {
      "cell_type": "code",
      "execution_count": null,
      "metadata": {
        "colab": {
          "base_uri": "https://localhost:8080/",
          "height": 295
        },
        "id": "LBN1QDCFngPC",
        "outputId": "c78ad62e-7a7b-43ba-a5f0-cd7d790af467"
      },
      "outputs": [
        {
          "output_type": "display_data",
          "data": {
            "text/plain": [
              "<Figure size 432x288 with 1 Axes>"
            ],
            "image/png": "[encoded data removed]"
          },
          "metadata": {
            "needs_background": "light"
          }
        }
      ],
      "source": [
        "# summarize history for loss\n",
        "plt.plot(ann_hist.history['loss'])\n",
        "plt.plot(ann_hist.history['val_loss'])\n",
        "plt.title('model loss')\n",
        "plt.ylabel('loss')\n",
        "plt.xlabel('epoch')\n",
        "plt.legend(['train', 'test'], loc='upper left')\n",
        "plt.show()"
      ]
    },
    {
      "cell_type": "code",
      "execution_count": null,
      "metadata": {
        "id": "WsqNr9WWo9-_"
      },
      "outputs": [],
      "source": [
        "from sklearn.metrics import confusion_matrix , classification_report"
      ]
    },
    {
      "cell_type": "code",
      "execution_count": null,
      "metadata": {
        "colab": {
          "base_uri": "https://localhost:8080/"
        },
        "id": "SVUPc7tQpH4Q",
        "outputId": "f68e9f37-4146-4eb7-adf8-fc1eef113fc8"
      },
      "outputs": [
        {
          "output_type": "execute_result",
          "data": {
            "text/plain": [
              "(10000, 32, 32, 3)"
            ]
          },
          "metadata": {},
          "execution_count": 26
        }
      ],
      "source": [
        "X_test.shape"
      ]
    },
    {
      "cell_type": "code",
      "execution_count": null,
      "metadata": {
        "colab": {
          "base_uri": "https://localhost:8080/"
        },
        "id": "3fDFOMSGpYmc",
        "outputId": "90ec00e7-a2df-4a6f-a023-498d86a1582b"
      },
      "outputs": [
        {
          "output_type": "stream",
          "name": "stdout",
          "text": [
            "313/313 [==============================] - 1s 2ms/step\n"
          ]
        }
      ],
      "source": [
        "y_pred = ann.predict(X_test)"
      ]
    },
    {
      "cell_type": "code",
      "execution_count": null,
      "metadata": {
        "colab": {
          "base_uri": "https://localhost:8080/"
        },
        "id": "ZQB9hZsAr5ea",
        "outputId": "08d7547b-df18-4a60-a106-05c7acb8a402"
      },
      "outputs": [
        {
          "output_type": "execute_result",
          "data": {
            "text/plain": [
              "(10000, 10)"
            ]
          },
          "metadata": {},
          "execution_count": 28
        }
      ],
      "source": [
        "y_pred.shape"
      ]
    },
    {
      "cell_type": "code",
      "execution_count": null,
      "metadata": {
        "id": "vhlgeFmQr-4Y"
      },
      "outputs": [],
      "source": [
        "y_pred_classes = [np.argmax(element) for element in y_pred]"
      ]
    },
    {
      "cell_type": "code",
      "execution_count": null,
      "metadata": {
        "colab": {
          "base_uri": "https://localhost:8080/"
        },
        "id": "3gyRV6fLsIGu",
        "outputId": "80e84c23-00ae-4610-f7aa-e89d1632cabe"
      },
      "outputs": [
        {
          "output_type": "stream",
          "name": "stdout",
          "text": [
            "313/313 [==============================] - 1s 2ms/step\n",
            "Confusion matrix of a Simple ANN: \n",
            " [[731   8  79  24  17  12   9   9  98  13]\n",
            " [149 442  24  38  16  17  13  15 129 157]\n",
            " [120   5 571  82  89  40  46  20  17  10]\n",
            " [ 79   5 183 396  48 140  71  21  24  33]\n",
            " [ 89   2 305  71 386  19  64  33  24   7]\n",
            " [ 48   4 190 243  60 347  43  26  29  10]\n",
            " [ 21   4 198 110  96  37 496   6  18  14]\n",
            " [ 85   2 143  81 108  70  21 429  24  37]\n",
            " [194  21  25  27  22   9   3   9 655  35]\n",
            " [126  77  25  63  19  20  17  36  96 521]]\n"
          ]
        }
      ],
      "source": [
        "from sklearn.metrics import confusion_matrix , classification_report\n",
        "import numpy as np\n",
        "y_pred = ann.predict(X_test)\n",
        "y_pred_classes = [np.argmax(element) for element in y_pred]\n",
        "\n",
        "cm = confusion_matrix(y_test, y_pred_classes)\n",
        "\n",
        "print(\"Confusion matrix of a Simple ANN: \\n\", cm)"
      ]
    },
    {
      "cell_type": "code",
      "execution_count": null,
      "metadata": {
        "colab": {
          "base_uri": "https://localhost:8080/",
          "height": 758
        },
        "id": "-FEoScY9sRh6",
        "outputId": "f206a883-d9df-4263-8d1a-fae686254d6e"
      },
      "outputs": [
        {
          "output_type": "display_data",
          "data": {
            "text/plain": [
              "<Figure size 864x864 with 1 Axes>"
            ],
            "image/png": "[encoded data removed]"
          },
          "metadata": {
            "needs_background": "light"
          }
        }
      ],
      "source": [
        "#  Visualization\n",
        "plt.figure(figsize = (12,12))\n",
        "sns.heatmap(cm, annot = True, fmt = 'd', cmap='Set2', cbar=False, linewidths=3).set(xticklabels = classes, yticklabels = classes)\n",
        "plt.title(\"Heatmap of ANN\\n\", size = 17)\n",
        "plt.xlabel(\"Prediction\", size = 13)\n",
        "plt.ylabel(\"Truth\",  size = 13)\n",
        "plt.show()"
      ]
    },
    {
      "cell_type": "code",
      "execution_count": null,
      "metadata": {
        "colab": {
          "base_uri": "https://localhost:8080/"
        },
        "id": "O4ZCVh96sruz",
        "outputId": "6497551f-6fd2-45d7-a36c-94ae27ec5ee3"
      },
      "outputs": [
        {
          "output_type": "stream",
          "name": "stdout",
          "text": [
            "313/313 [==============================] - 1s 2ms/step\n",
            "Classification Report of CNN: \n",
            "               precision    recall  f1-score   support\n",
            "\n",
            "           0       0.45      0.73      0.55      1000\n",
            "           1       0.78      0.44      0.56      1000\n",
            "           2       0.33      0.57      0.42      1000\n",
            "           3       0.35      0.40      0.37      1000\n",
            "           4       0.45      0.39      0.41      1000\n",
            "           5       0.49      0.35      0.41      1000\n",
            "           6       0.63      0.50      0.56      1000\n",
            "           7       0.71      0.43      0.53      1000\n",
            "           8       0.59      0.66      0.62      1000\n",
            "           9       0.62      0.52      0.57      1000\n",
            "\n",
            "    accuracy                           0.50     10000\n",
            "   macro avg       0.54      0.50      0.50     10000\n",
            "weighted avg       0.54      0.50      0.50     10000\n",
            "\n"
          ]
        }
      ],
      "source": [
        "from sklearn.metrics import confusion_matrix , classification_report\n",
        "import numpy as np\n",
        "y_pred = ann.predict(X_test)\n",
        "y_pred_classes = [np.argmax(element) for element in y_pred]\n",
        "\n",
        "print(\"Classification Report of CNN: \\n\", classification_report(y_test, y_pred_classes))"
      ]
    },
    {
      "cell_type": "code",
      "source": [],
      "metadata": {
        "id": "GpdxD9KOeP8C"
      },
      "execution_count": null,
      "outputs": []
    }
  ],
  "metadata": {
    "accelerator": "GPU",
    "colab": {
      "provenance": []
    },
    "gpuClass": "standard",
    "kernelspec": {
      "display_name": "Python 3",
      "name": "python3"
    },
    "language_info": {
      "name": "python"
    }
  },
  "nbformat": 4,
  "nbformat_minor": 0
}